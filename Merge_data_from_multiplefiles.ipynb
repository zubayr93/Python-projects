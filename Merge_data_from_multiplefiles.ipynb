{
 "cells": [
  {
   "cell_type": "code",
   "execution_count": 3,
   "id": "d5d36e57",
   "metadata": {},
   "outputs": [],
   "source": [
    "# merging data from multiple files\n",
    "\n",
    "import glob\n",
    "import datetime\n",
    "\n",
    "filenames = glob.glob(\"*.txt\")\n",
    "\n",
    "with open(datetime.datetime.now().strftime(\"%Y-%m-%d-%H-%M\")+\".txt\",'w') as file:\n",
    "    for filename in filenames:\n",
    "        with open(filename,\"r\") as f:\n",
    "            file.write(f.read()+\"\\n\")"
   ]
  },
  {
   "cell_type": "code",
   "execution_count": null,
   "id": "31067d37",
   "metadata": {},
   "outputs": [],
   "source": []
  },
  {
   "cell_type": "code",
   "execution_count": null,
   "id": "1f5b8bcb",
   "metadata": {},
   "outputs": [],
   "source": []
  },
  {
   "cell_type": "code",
   "execution_count": null,
   "id": "c59fc9cc",
   "metadata": {},
   "outputs": [],
   "source": []
  }
 ],
 "metadata": {
  "kernelspec": {
   "display_name": "Python 3",
   "language": "python",
   "name": "python3"
  },
  "language_info": {
   "codemirror_mode": {
    "name": "ipython",
    "version": 3
   },
   "file_extension": ".py",
   "mimetype": "text/x-python",
   "name": "python",
   "nbconvert_exporter": "python",
   "pygments_lexer": "ipython3",
   "version": "3.8.8"
  }
 },
 "nbformat": 4,
 "nbformat_minor": 5
}
